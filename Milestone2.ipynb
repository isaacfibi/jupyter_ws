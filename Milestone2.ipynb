{
 "cells": [
  {
   "cell_type": "code",
   "execution_count": 2,
   "id": "5b04f2fe-c805-4461-85e6-3c3dd6a77bb7",
   "metadata": {},
   "outputs": [
    {
     "name": "stdout",
     "output_type": "stream",
     "text": [
      "Collecting NumPy\n",
      "  Downloading numpy-2.2.1-cp313-cp313-win_amd64.whl.metadata (60 kB)\n",
      "Downloading numpy-2.2.1-cp313-cp313-win_amd64.whl (12.6 MB)\n",
      "   ---------------------------------------- 0.0/12.6 MB ? eta -:--:--\n",
      "   ------------------------------- -------- 10.0/12.6 MB 50.1 MB/s eta 0:00:01\n",
      "   ---------------------------------------- 12.6/12.6 MB 41.3 MB/s eta 0:00:00\n",
      "Installing collected packages: NumPy\n",
      "Successfully installed NumPy-2.2.1\n"
     ]
    }
   ],
   "source": [
    "!pip install NumPy"
   ]
  },
  {
   "cell_type": "code",
   "execution_count": 11,
   "id": "618adf1b-f1a2-4b0a-b277-dcffccc11fe2",
   "metadata": {},
   "outputs": [
    {
     "data": {
      "text/latex": [
       "\\begin{equation*}\n",
       "a^2 + b^2 = c^2\n",
       "\\end{equation*}\n"
      ],
      "text/plain": [
       "<IPython.core.display.Latex object>"
      ]
     },
     "metadata": {},
     "output_type": "display_data"
    }
   ],
   "source": [
    "%%latex\n",
    "\\begin{equation*}\n",
    "a^2 + b^2 = c^2\n",
    "\\end{equation*}"
   ]
  },
  {
   "cell_type": "code",
   "execution_count": 102,
   "id": "97bd45eb-5cfe-4190-94bf-c30a4ba789d7",
   "metadata": {},
   "outputs": [],
   "source": [
    "def factorialA(n):\n",
    "    fact = 1\n",
    "    for x in range(1, n+1):\n",
    "        fact *= x\n",
    "    #print(fact)\n",
    "\n",
    "def factorialB(n):\n",
    "    if n == 1:\n",
    "        return 1\n",
    "    else:\n",
    "        return n*factorialB(n-1)\n",
    "    #print(n)"
   ]
  },
  {
   "cell_type": "code",
   "execution_count": 103,
   "id": "62937b83-0a7f-42b1-9d71-d7c95bbeb8b0",
   "metadata": {},
   "outputs": [
    {
     "name": "stdout",
     "output_type": "stream",
     "text": [
      "4.51 μs ± 47.4 ns per loop (mean ± std. dev. of 7 runs, 100,000 loops each)\n"
     ]
    }
   ],
   "source": [
    "%timeit x = factorialA(100)"
   ]
  },
  {
   "cell_type": "code",
   "execution_count": 104,
   "id": "a894b533-b121-48e0-b2f1-4743500df539",
   "metadata": {},
   "outputs": [
    {
     "name": "stdout",
     "output_type": "stream",
     "text": [
      "7.27 μs ± 23.8 ns per loop (mean ± std. dev. of 7 runs, 100,000 loops each)\n"
     ]
    }
   ],
   "source": [
    "%timeit x = factorialB(100)"
   ]
  },
  {
   "cell_type": "markdown",
   "id": "d5b36b2b-e013-4b2d-bb02-2645fb789982",
   "metadata": {},
   "source": [
    "Recursion method is faster with less std dev"
   ]
  },
  {
   "cell_type": "code",
   "execution_count": 101,
   "id": "93e43b93-ddad-4be2-8932-087ca5c3680e",
   "metadata": {},
   "outputs": [
    {
     "data": {
      "text/html": [
       "<iframe width=\"420\" height=\"300\" src=\"https://www.youtube.com/embed/Y7uNT0alrKk\" allowfullscreen>\n"
      ],
      "text/plain": [
       "<IPython.core.display.HTML object>"
      ]
     },
     "metadata": {},
     "output_type": "display_data"
    }
   ],
   "source": [
    "%%HTML\n",
    "<iframe width=\"420\" height=\"300\" src=\"https://www.youtube.com/embed/Y7uNT0alrKk\" allowfullscreen>"
   ]
  },
  {
   "cell_type": "code",
   "execution_count": null,
   "id": "d6a10382-97e9-494e-9914-3c7c3c47b84f",
   "metadata": {},
   "outputs": [],
   "source": []
  },
  {
   "cell_type": "code",
   "execution_count": null,
   "id": "69fa4328-0ec2-4b31-84fa-717c75bd190f",
   "metadata": {},
   "outputs": [],
   "source": []
  }
 ],
 "metadata": {
  "kernelspec": {
   "display_name": "Python 3 (ipykernel)",
   "language": "python",
   "name": "python3"
  },
  "language_info": {
   "codemirror_mode": {
    "name": "ipython",
    "version": 3
   },
   "file_extension": ".py",
   "mimetype": "text/x-python",
   "name": "python",
   "nbconvert_exporter": "python",
   "pygments_lexer": "ipython3",
   "version": "3.13.1"
  }
 },
 "nbformat": 4,
 "nbformat_minor": 5
}
